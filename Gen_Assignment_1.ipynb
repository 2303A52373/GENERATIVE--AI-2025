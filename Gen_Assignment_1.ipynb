{
  "nbformat": 4,
  "nbformat_minor": 0,
  "metadata": {
    "colab": {
      "provenance": [],
      "authorship_tag": "ABX9TyPtuANQbrDxRFpz4QUzonx8",
      "include_colab_link": true
    },
    "kernelspec": {
      "name": "python3",
      "display_name": "Python 3"
    },
    "language_info": {
      "name": "python"
    }
  },
  "cells": [
    {
      "cell_type": "markdown",
      "metadata": {
        "id": "view-in-github",
        "colab_type": "text"
      },
      "source": [
        "<a href=\"https://colab.research.google.com/github/2303A52373/GENERATIVE--AI-2025/blob/main/Gen_Assignment_1.ipynb\" target=\"_parent\"><img src=\"https://colab.research.google.com/assets/colab-badge.svg\" alt=\"Open In Colab\"/></a>"
      ]
    },
    {
      "cell_type": "code",
      "execution_count": 4,
      "metadata": {
        "colab": {
          "base_uri": "https://localhost:8080/",
          "height": 53
        },
        "id": "ituQA4fKOX-4",
        "outputId": "d3bef74b-5941-4ab8-bc11-1885245c5e9b"
      },
      "outputs": [
        {
          "output_type": "execute_result",
          "data": {
            "text/plain": [
              "'(1 ponto)Write Python code from scratch to find error metrics of deep learning model. Actual\\nvalues and deep learning model predicted values are shown in Table 1. Also compare the results\\nwith the outcomes of libraries\\nYActual YP red\\n20 20.5\\n30 30.3\\n40 40.2\\n50 50.6\\n60 60.7\\nTabela 1: YActual Vs. YP red'"
            ],
            "application/vnd.google.colaboratory.intrinsic+json": {
              "type": "string"
            }
          },
          "metadata": {},
          "execution_count": 4
        }
      ],
      "source": [
        "'''(1 ponto)Write Python code from scratch to find error metrics of deep learning model. Actual\n",
        "values and deep learning model predicted values are shown in Table 1. Also compare the results\n",
        "with the outcomes of libraries\n",
        "YActual YP red\n",
        "20 20.5\n",
        "30 30.3\n",
        "40 40.2\n",
        "50 50.6\n",
        "60 60.7\n",
        "Tabela 1: YActual Vs. YP red'''\n",
        "\n"
      ]
    },
    {
      "cell_type": "code",
      "source": [
        "import numpy as np\n",
        "import pandas as pd\n",
        "from sklearn.metrics import mean_absolute_error, mean_squared_error, r2_score, accuracy_score, f1_score, confusion_matrix"
      ],
      "metadata": {
        "id": "8IkS0eO_VEpB"
      },
      "execution_count": 5,
      "outputs": []
    },
    {
      "cell_type": "code",
      "source": [
        "# Data from Table 1\n",
        "y_actual_regression = np.array([20, 30, 40, 50, 60])\n",
        "y_pred_regression = np.array([20.5, 30.3, 40.2, 50.6, 60.7])"
      ],
      "metadata": {
        "id": "vEUlWtTKVJzX"
      },
      "execution_count": 11,
      "outputs": []
    },
    {
      "cell_type": "code",
      "source": [
        "# Calculate error metrics for regression\n",
        "mae = mean_absolute_error(y_actual_regression, y_pred_regression)\n",
        "mse = mean_squared_error(y_actual_regression, y_pred_regression)\n",
        "rmse = np.sqrt(mse)\n",
        "r2 = r2_score(y_actual_regression, y_pred_regression)"
      ],
      "metadata": {
        "id": "JEgFTsVDVPCL"
      },
      "execution_count": 7,
      "outputs": []
    },
    {
      "cell_type": "code",
      "source": [
        "print(\"Regression Metrics:\")\n",
        "print(\"Mean Absolute Error (MAE):\", mae)\n",
        "print(\"Mean Squared Error (MSE):\", mse)\n",
        "print(\"Root Mean Squared Error (RMSE):\", rmse)\n",
        "print(\"R-squared (R2):\",r2)"
      ],
      "metadata": {
        "colab": {
          "base_uri": "https://localhost:8080/"
        },
        "id": "pfUXzXgEVU1r",
        "outputId": "4cf69d69-82b8-4bf6-a1d5-5792f65cc186"
      },
      "execution_count": 10,
      "outputs": [
        {
          "output_type": "stream",
          "name": "stdout",
          "text": [
            "Regression Metrics:\n",
            "Mean Absolute Error (MAE): 0.4600000000000016\n",
            "Mean Squared Error (MSE): 0.24600000000000147\n",
            "Root Mean Squared Error (RMSE): 0.49598387070549127\n",
            "R-squared (R2): 0.99877\n"
          ]
        }
      ]
    },
    {
      "cell_type": "code",
      "source": [
        ""
      ],
      "metadata": {
        "id": "KnBc_S_cafow"
      },
      "execution_count": null,
      "outputs": []
    }
  ]
}